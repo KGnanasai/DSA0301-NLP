{
  "nbformat": 4,
  "nbformat_minor": 0,
  "metadata": {
    "colab": {
      "provenance": [],
      "authorship_tag": "ABX9TyOuPWzortuJSuk7QJGjrbsK",
      "include_colab_link": true
    },
    "kernelspec": {
      "name": "python3",
      "display_name": "Python 3"
    },
    "language_info": {
      "name": "python"
    }
  },
  "cells": [
    {
      "cell_type": "markdown",
      "metadata": {
        "id": "view-in-github",
        "colab_type": "text"
      },
      "source": [
        "<a href=\"https://colab.research.google.com/github/KGnanasai/DSA0301-NLP/blob/main/class/Earley%20Parsing.ipynb\" target=\"_parent\"><img src=\"https://colab.research.google.com/assets/colab-badge.svg\" alt=\"Open In Colab\"/></a>"
      ]
    },
    {
      "cell_type": "code",
      "execution_count": 2,
      "metadata": {
        "colab": {
          "base_uri": "https://localhost:8080/"
        },
        "id": "pTS8zjl-4tRU",
        "outputId": "f95e5bd6-a9be-4d76-afd1-e4572f7064a8"
      },
      "outputs": [
        {
          "output_type": "stream",
          "name": "stdout",
          "text": [
            "Parse Tree:\n",
            "(S (NP (Det the) (N dog)) (VP (V chased) (NP (Det the) (N cat))))\n",
            "              S               \n",
            "      ________|_____           \n",
            "     |              VP        \n",
            "     |         _____|___       \n",
            "     NP       |         NP    \n",
            "  ___|___     |      ___|___   \n",
            "Det      N    V    Det      N \n",
            " |       |    |     |       |  \n",
            "the     dog chased the     cat\n",
            "\n",
            "\n",
            "\n"
          ]
        }
      ],
      "source": [
        "import nltk\n",
        "grammar = nltk.CFG.fromstring(\"\"\"\n",
        "S -> NP VP\n",
        "NP -> Det N\n",
        "VP -> V NP\n",
        "Det -> 'the'\n",
        "N -> 'dog'|'cat'\n",
        "V -> 'chased'|'ate'\n",
        "\"\"\")\n",
        "sent = \"the dog chased the cat\"\n",
        "tokens = sent.split()\n",
        "parser = nltk.EarleyChartParser(grammar)\n",
        "for tree in parser.parse(tokens):\n",
        "  print(\"Parse Tree:\")\n",
        "  print(tree)\n",
        "  tree.pretty_print()\n",
        "  print(\"\\n\")"
      ]
    }
  ]
}