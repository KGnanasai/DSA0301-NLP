{
  "nbformat": 4,
  "nbformat_minor": 0,
  "metadata": {
    "colab": {
      "provenance": [],
      "authorship_tag": "ABX9TyM7XL6LrMusNOyygS3saf+c",
      "include_colab_link": true
    },
    "kernelspec": {
      "name": "python3",
      "display_name": "Python 3"
    },
    "language_info": {
      "name": "python"
    }
  },
  "cells": [
    {
      "cell_type": "markdown",
      "metadata": {
        "id": "view-in-github",
        "colab_type": "text"
      },
      "source": [
        "<a href=\"https://colab.research.google.com/github/KGnanasai/DSA0301-NLP/blob/main/class/word%20token.ipynb\" target=\"_parent\"><img src=\"https://colab.research.google.com/assets/colab-badge.svg\" alt=\"Open In Colab\"/></a>"
      ]
    },
    {
      "cell_type": "code",
      "execution_count": 7,
      "metadata": {
        "colab": {
          "base_uri": "https://localhost:8080/"
        },
        "id": "pTS8zjl-4tRU",
        "outputId": "d55628d3-2718-46a2-a7e3-f6f8aee185af"
      },
      "outputs": [
        {
          "output_type": "stream",
          "name": "stdout",
          "text": [
            "['I', 'pledge', 'to', 'be', 'a', 'data', 'scientist', 'one', 'day']\n",
            "<class 'list'>\n"
          ]
        }
      ],
      "source": [
        "from nltk.tokenize import word_tokenize\n",
        "data = \"I pledge to be a data scientist one day\"\n",
        "tokenized_text=word_tokenize(data)\n",
        "print(tokenized_text)\n",
        "print(type(tokenized_text))"
      ]
    }
  ]
}